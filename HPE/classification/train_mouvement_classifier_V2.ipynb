{
 "cells": [
  {
   "cell_type": "markdown",
   "id": "615b763e",
   "metadata": {},
   "source": [
    "# Movement Classification Model Training V2\n",
    "This notebook walks through every step to train a machine learning model to classify human movements (e.g., squat, push-up) using joint angles."
   ]
  },
  {
   "cell_type": "code",
   "execution_count": 2,
   "id": "130852c9",
   "metadata": {},
   "outputs": [],
   "source": [
    "import pandas as pd"
   ]
  },
  {
   "cell_type": "code",
   "execution_count": 3,
   "id": "a439109a",
   "metadata": {},
   "outputs": [
    {
     "data": {
      "text/html": [
       "<div>\n",
       "<style scoped>\n",
       "    .dataframe tbody tr th:only-of-type {\n",
       "        vertical-align: middle;\n",
       "    }\n",
       "\n",
       "    .dataframe tbody tr th {\n",
       "        vertical-align: top;\n",
       "    }\n",
       "\n",
       "    .dataframe thead th {\n",
       "        text-align: right;\n",
       "    }\n",
       "</style>\n",
       "<table border=\"1\" class=\"dataframe\">\n",
       "  <thead>\n",
       "    <tr style=\"text-align: right;\">\n",
       "      <th></th>\n",
       "      <th>vid_id</th>\n",
       "      <th>frame_order</th>\n",
       "      <th>right_elbow_right_shoulder_right_hip</th>\n",
       "      <th>left_elbow_left_shoulder_left_hip</th>\n",
       "      <th>right_knee_mid_hip_left_knee</th>\n",
       "      <th>right_hip_right_knee_right_ankle</th>\n",
       "      <th>left_hip_left_knee_left_ankle</th>\n",
       "      <th>right_wrist_right_elbow_right_shoulder</th>\n",
       "      <th>left_wrist_left_elbow_left_shoulder</th>\n",
       "      <th>left_shoulder_left_wrist</th>\n",
       "      <th>...</th>\n",
       "      <th>x_right_heel</th>\n",
       "      <th>y_right_heel</th>\n",
       "      <th>z_right_heel</th>\n",
       "      <th>x_left_foot_index</th>\n",
       "      <th>y_left_foot_index</th>\n",
       "      <th>z_left_foot_index</th>\n",
       "      <th>x_right_foot_index</th>\n",
       "      <th>y_right_foot_index</th>\n",
       "      <th>z_right_foot_index</th>\n",
       "      <th>class</th>\n",
       "    </tr>\n",
       "  </thead>\n",
       "  <tbody>\n",
       "    <tr>\n",
       "      <th>0</th>\n",
       "      <td>0</td>\n",
       "      <td>0</td>\n",
       "      <td>16.926802</td>\n",
       "      <td>7.667874</td>\n",
       "      <td>18.982162</td>\n",
       "      <td>112.747505</td>\n",
       "      <td>112.62553</td>\n",
       "      <td>112.099300</td>\n",
       "      <td>101.05565</td>\n",
       "      <td>44.616184</td>\n",
       "      <td>...</td>\n",
       "      <td>-4.885307</td>\n",
       "      <td>67.512770</td>\n",
       "      <td>40.333897</td>\n",
       "      <td>5.356711</td>\n",
       "      <td>73.934240</td>\n",
       "      <td>11.780330</td>\n",
       "      <td>-5.852993</td>\n",
       "      <td>73.78203</td>\n",
       "      <td>9.016774</td>\n",
       "      <td>jumping_jack</td>\n",
       "    </tr>\n",
       "    <tr>\n",
       "      <th>1</th>\n",
       "      <td>0</td>\n",
       "      <td>1</td>\n",
       "      <td>14.199318</td>\n",
       "      <td>8.954973</td>\n",
       "      <td>18.966124</td>\n",
       "      <td>109.707190</td>\n",
       "      <td>109.76263</td>\n",
       "      <td>110.645454</td>\n",
       "      <td>102.00027</td>\n",
       "      <td>44.785343</td>\n",
       "      <td>...</td>\n",
       "      <td>-4.753275</td>\n",
       "      <td>64.969570</td>\n",
       "      <td>45.439384</td>\n",
       "      <td>5.492989</td>\n",
       "      <td>73.177270</td>\n",
       "      <td>18.108229</td>\n",
       "      <td>-6.038326</td>\n",
       "      <td>72.70349</td>\n",
       "      <td>14.222010</td>\n",
       "      <td>jumping_jack</td>\n",
       "    </tr>\n",
       "    <tr>\n",
       "      <th>2</th>\n",
       "      <td>0</td>\n",
       "      <td>2</td>\n",
       "      <td>18.065800</td>\n",
       "      <td>10.315741</td>\n",
       "      <td>17.527954</td>\n",
       "      <td>114.562100</td>\n",
       "      <td>112.08965</td>\n",
       "      <td>113.340350</td>\n",
       "      <td>104.09502</td>\n",
       "      <td>44.907803</td>\n",
       "      <td>...</td>\n",
       "      <td>-4.517086</td>\n",
       "      <td>64.510980</td>\n",
       "      <td>48.996880</td>\n",
       "      <td>5.433758</td>\n",
       "      <td>72.199036</td>\n",
       "      <td>19.192911</td>\n",
       "      <td>-5.513490</td>\n",
       "      <td>71.79309</td>\n",
       "      <td>17.322145</td>\n",
       "      <td>jumping_jack</td>\n",
       "    </tr>\n",
       "    <tr>\n",
       "      <th>3</th>\n",
       "      <td>0</td>\n",
       "      <td>3</td>\n",
       "      <td>23.270214</td>\n",
       "      <td>17.336140</td>\n",
       "      <td>17.195545</td>\n",
       "      <td>117.674810</td>\n",
       "      <td>115.43172</td>\n",
       "      <td>114.634530</td>\n",
       "      <td>107.38297</td>\n",
       "      <td>45.922737</td>\n",
       "      <td>...</td>\n",
       "      <td>-4.674540</td>\n",
       "      <td>64.720245</td>\n",
       "      <td>53.581780</td>\n",
       "      <td>5.768750</td>\n",
       "      <td>72.696290</td>\n",
       "      <td>23.325266</td>\n",
       "      <td>-5.238461</td>\n",
       "      <td>72.11217</td>\n",
       "      <td>21.887375</td>\n",
       "      <td>jumping_jack</td>\n",
       "    </tr>\n",
       "    <tr>\n",
       "      <th>4</th>\n",
       "      <td>0</td>\n",
       "      <td>4</td>\n",
       "      <td>22.831680</td>\n",
       "      <td>13.822096</td>\n",
       "      <td>17.355429</td>\n",
       "      <td>117.536720</td>\n",
       "      <td>117.96766</td>\n",
       "      <td>112.306390</td>\n",
       "      <td>98.39078</td>\n",
       "      <td>40.620460</td>\n",
       "      <td>...</td>\n",
       "      <td>-4.098778</td>\n",
       "      <td>62.490230</td>\n",
       "      <td>52.845634</td>\n",
       "      <td>5.633003</td>\n",
       "      <td>70.438194</td>\n",
       "      <td>23.657516</td>\n",
       "      <td>-5.467475</td>\n",
       "      <td>70.08317</td>\n",
       "      <td>22.496626</td>\n",
       "      <td>jumping_jack</td>\n",
       "    </tr>\n",
       "  </tbody>\n",
       "</table>\n",
       "<p>5 rows × 125 columns</p>\n",
       "</div>"
      ],
      "text/plain": [
       "   vid_id  frame_order  right_elbow_right_shoulder_right_hip  \\\n",
       "0       0            0                             16.926802   \n",
       "1       0            1                             14.199318   \n",
       "2       0            2                             18.065800   \n",
       "3       0            3                             23.270214   \n",
       "4       0            4                             22.831680   \n",
       "\n",
       "   left_elbow_left_shoulder_left_hip  right_knee_mid_hip_left_knee  \\\n",
       "0                           7.667874                     18.982162   \n",
       "1                           8.954973                     18.966124   \n",
       "2                          10.315741                     17.527954   \n",
       "3                          17.336140                     17.195545   \n",
       "4                          13.822096                     17.355429   \n",
       "\n",
       "   right_hip_right_knee_right_ankle  left_hip_left_knee_left_ankle  \\\n",
       "0                        112.747505                      112.62553   \n",
       "1                        109.707190                      109.76263   \n",
       "2                        114.562100                      112.08965   \n",
       "3                        117.674810                      115.43172   \n",
       "4                        117.536720                      117.96766   \n",
       "\n",
       "   right_wrist_right_elbow_right_shoulder  \\\n",
       "0                              112.099300   \n",
       "1                              110.645454   \n",
       "2                              113.340350   \n",
       "3                              114.634530   \n",
       "4                              112.306390   \n",
       "\n",
       "   left_wrist_left_elbow_left_shoulder  left_shoulder_left_wrist  ...  \\\n",
       "0                            101.05565                 44.616184  ...   \n",
       "1                            102.00027                 44.785343  ...   \n",
       "2                            104.09502                 44.907803  ...   \n",
       "3                            107.38297                 45.922737  ...   \n",
       "4                             98.39078                 40.620460  ...   \n",
       "\n",
       "   x_right_heel  y_right_heel  z_right_heel  x_left_foot_index  \\\n",
       "0     -4.885307     67.512770     40.333897           5.356711   \n",
       "1     -4.753275     64.969570     45.439384           5.492989   \n",
       "2     -4.517086     64.510980     48.996880           5.433758   \n",
       "3     -4.674540     64.720245     53.581780           5.768750   \n",
       "4     -4.098778     62.490230     52.845634           5.633003   \n",
       "\n",
       "   y_left_foot_index  z_left_foot_index  x_right_foot_index  \\\n",
       "0          73.934240          11.780330           -5.852993   \n",
       "1          73.177270          18.108229           -6.038326   \n",
       "2          72.199036          19.192911           -5.513490   \n",
       "3          72.696290          23.325266           -5.238461   \n",
       "4          70.438194          23.657516           -5.467475   \n",
       "\n",
       "   y_right_foot_index  z_right_foot_index         class  \n",
       "0            73.78203            9.016774  jumping_jack  \n",
       "1            72.70349           14.222010  jumping_jack  \n",
       "2            71.79309           17.322145  jumping_jack  \n",
       "3            72.11217           21.887375  jumping_jack  \n",
       "4            70.08317           22.496626  jumping_jack  \n",
       "\n",
       "[5 rows x 125 columns]"
      ]
     },
     "execution_count": 3,
     "metadata": {},
     "output_type": "execute_result"
    }
   ],
   "source": [
    "angles_df = pd.read_csv('data/angles.csv')\n",
    "labels_df = pd.read_csv('data/labels.csv')\n",
    "dists_df = pd.read_csv('data/calculated_3d_distances.csv')\n",
    "landmarks_df = pd.read_csv('data/landmarks.csv')\n",
    "\n",
    "\n",
    "df = angles_df.merge(dists_df, on=['vid_id', 'frame_order']).merge(landmarks_df, on=['vid_id', 'frame_order']).merge(labels_df, on='vid_id')\n",
    "df.head()\n"
   ]
  },
  {
   "cell_type": "code",
   "execution_count": 4,
   "id": "66357833",
   "metadata": {},
   "outputs": [
    {
     "name": "stdout",
     "output_type": "stream",
     "text": [
      "vid_id                                    int64\n",
      "frame_order                               int64\n",
      "right_elbow_right_shoulder_right_hip    float64\n",
      "left_elbow_left_shoulder_left_hip       float64\n",
      "right_knee_mid_hip_left_knee            float64\n",
      "                                         ...   \n",
      "z_left_foot_index                       float64\n",
      "x_right_foot_index                      float64\n",
      "y_right_foot_index                      float64\n",
      "z_right_foot_index                      float64\n",
      "class                                    object\n",
      "Length: 125, dtype: object\n"
     ]
    }
   ],
   "source": [
    "print(df.dtypes)\n",
    "X = df.drop(columns=['vid_id', 'frame_order', 'class'])\n",
    "y = df['class']"
   ]
  },
  {
   "cell_type": "code",
   "execution_count": 5,
   "id": "0b2fa79f",
   "metadata": {},
   "outputs": [
    {
     "name": "stdout",
     "output_type": "stream",
     "text": [
      "vid_id                                    int64\n",
      "frame_order                               int64\n",
      "right_elbow_right_shoulder_right_hip    float64\n",
      "left_elbow_left_shoulder_left_hip       float64\n",
      "right_knee_mid_hip_left_knee            float64\n",
      "                                         ...   \n",
      "z_right_foot_index                      float64\n",
      "class_pull_up                              bool\n",
      "class_push_up                              bool\n",
      "class_situp                                bool\n",
      "class_squat                                bool\n",
      "Length: 128, dtype: object\n"
     ]
    }
   ],
   "source": [
    "df = pd.get_dummies(df, prefix=\"class\",   \n",
    "\n",
    "                                   drop_first=True)\n",
    "print(df.dtypes) \n",
    "\n"
   ]
  },
  {
   "cell_type": "code",
   "execution_count": 6,
   "id": "fd920f59",
   "metadata": {},
   "outputs": [
    {
     "data": {
      "text/plain": [
       "array(['jumping_jack', 'pull_up', 'push_up', 'situp', 'squat'],\n",
       "      dtype=object)"
      ]
     },
     "execution_count": 6,
     "metadata": {},
     "output_type": "execute_result"
    }
   ],
   "source": [
    "from sklearn.preprocessing import LabelEncoder\n",
    "\n",
    "label_encoder = LabelEncoder()\n",
    "y_encoded = label_encoder.fit_transform(y)\n",
    "label_encoder.classes_"
   ]
  },
  {
   "cell_type": "code",
   "execution_count": 7,
   "id": "5b2cf254",
   "metadata": {},
   "outputs": [],
   "source": [
    "from sklearn.model_selection import train_test_split\n",
    "\n",
    "X_train, X_test, y_train, y_test = train_test_split(\n",
    "    X, y_encoded, test_size=0.2, random_state=42, stratify=y_encoded)"
   ]
  },
  {
   "cell_type": "code",
   "execution_count": 8,
   "id": "8f508a07",
   "metadata": {},
   "outputs": [
    {
     "data": {
      "text/html": [
       "<style>#sk-container-id-1 {color: black;}#sk-container-id-1 pre{padding: 0;}#sk-container-id-1 div.sk-toggleable {background-color: white;}#sk-container-id-1 label.sk-toggleable__label {cursor: pointer;display: block;width: 100%;margin-bottom: 0;padding: 0.3em;box-sizing: border-box;text-align: center;}#sk-container-id-1 label.sk-toggleable__label-arrow:before {content: \"▸\";float: left;margin-right: 0.25em;color: #696969;}#sk-container-id-1 label.sk-toggleable__label-arrow:hover:before {color: black;}#sk-container-id-1 div.sk-estimator:hover label.sk-toggleable__label-arrow:before {color: black;}#sk-container-id-1 div.sk-toggleable__content {max-height: 0;max-width: 0;overflow: hidden;text-align: left;background-color: #f0f8ff;}#sk-container-id-1 div.sk-toggleable__content pre {margin: 0.2em;color: black;border-radius: 0.25em;background-color: #f0f8ff;}#sk-container-id-1 input.sk-toggleable__control:checked~div.sk-toggleable__content {max-height: 200px;max-width: 100%;overflow: auto;}#sk-container-id-1 input.sk-toggleable__control:checked~label.sk-toggleable__label-arrow:before {content: \"▾\";}#sk-container-id-1 div.sk-estimator input.sk-toggleable__control:checked~label.sk-toggleable__label {background-color: #d4ebff;}#sk-container-id-1 div.sk-label input.sk-toggleable__control:checked~label.sk-toggleable__label {background-color: #d4ebff;}#sk-container-id-1 input.sk-hidden--visually {border: 0;clip: rect(1px 1px 1px 1px);clip: rect(1px, 1px, 1px, 1px);height: 1px;margin: -1px;overflow: hidden;padding: 0;position: absolute;width: 1px;}#sk-container-id-1 div.sk-estimator {font-family: monospace;background-color: #f0f8ff;border: 1px dotted black;border-radius: 0.25em;box-sizing: border-box;margin-bottom: 0.5em;}#sk-container-id-1 div.sk-estimator:hover {background-color: #d4ebff;}#sk-container-id-1 div.sk-parallel-item::after {content: \"\";width: 100%;border-bottom: 1px solid gray;flex-grow: 1;}#sk-container-id-1 div.sk-label:hover label.sk-toggleable__label {background-color: #d4ebff;}#sk-container-id-1 div.sk-serial::before {content: \"\";position: absolute;border-left: 1px solid gray;box-sizing: border-box;top: 0;bottom: 0;left: 50%;z-index: 0;}#sk-container-id-1 div.sk-serial {display: flex;flex-direction: column;align-items: center;background-color: white;padding-right: 0.2em;padding-left: 0.2em;position: relative;}#sk-container-id-1 div.sk-item {position: relative;z-index: 1;}#sk-container-id-1 div.sk-parallel {display: flex;align-items: stretch;justify-content: center;background-color: white;position: relative;}#sk-container-id-1 div.sk-item::before, #sk-container-id-1 div.sk-parallel-item::before {content: \"\";position: absolute;border-left: 1px solid gray;box-sizing: border-box;top: 0;bottom: 0;left: 50%;z-index: -1;}#sk-container-id-1 div.sk-parallel-item {display: flex;flex-direction: column;z-index: 1;position: relative;background-color: white;}#sk-container-id-1 div.sk-parallel-item:first-child::after {align-self: flex-end;width: 50%;}#sk-container-id-1 div.sk-parallel-item:last-child::after {align-self: flex-start;width: 50%;}#sk-container-id-1 div.sk-parallel-item:only-child::after {width: 0;}#sk-container-id-1 div.sk-dashed-wrapped {border: 1px dashed gray;margin: 0 0.4em 0.5em 0.4em;box-sizing: border-box;padding-bottom: 0.4em;background-color: white;}#sk-container-id-1 div.sk-label label {font-family: monospace;font-weight: bold;display: inline-block;line-height: 1.2em;}#sk-container-id-1 div.sk-label-container {text-align: center;}#sk-container-id-1 div.sk-container {/* jupyter's `normalize.less` sets `[hidden] { display: none; }` but bootstrap.min.css set `[hidden] { display: none !important; }` so we also need the `!important` here to be able to override the default hidden behavior on the sphinx rendered scikit-learn.org. See: https://github.com/scikit-learn/scikit-learn/issues/21755 */display: inline-block !important;position: relative;}#sk-container-id-1 div.sk-text-repr-fallback {display: none;}</style><div id=\"sk-container-id-1\" class=\"sk-top-container\"><div class=\"sk-text-repr-fallback\"><pre>XGBClassifier(base_score=None, booster=None, callbacks=None,\n",
       "              colsample_bylevel=None, colsample_bynode=None,\n",
       "              colsample_bytree=None, device=None, early_stopping_rounds=None,\n",
       "              enable_categorical=False, eval_metric=None, feature_types=None,\n",
       "              feature_weights=None, gamma=None, grow_policy=None,\n",
       "              importance_type=None, interaction_constraints=None,\n",
       "              learning_rate=None, max_bin=None, max_cat_threshold=None,\n",
       "              max_cat_to_onehot=None, max_delta_step=None, max_depth=None,\n",
       "              max_leaves=None, min_child_weight=None, missing=nan,\n",
       "              monotone_constraints=None, multi_strategy=None, n_estimators=100,\n",
       "              n_jobs=None, num_parallel_tree=None, ...)</pre><b>In a Jupyter environment, please rerun this cell to show the HTML representation or trust the notebook. <br />On GitHub, the HTML representation is unable to render, please try loading this page with nbviewer.org.</b></div><div class=\"sk-container\" hidden><div class=\"sk-item\"><div class=\"sk-estimator sk-toggleable\"><input class=\"sk-toggleable__control sk-hidden--visually\" id=\"sk-estimator-id-1\" type=\"checkbox\" checked><label for=\"sk-estimator-id-1\" class=\"sk-toggleable__label sk-toggleable__label-arrow\">XGBClassifier</label><div class=\"sk-toggleable__content\"><pre>XGBClassifier(base_score=None, booster=None, callbacks=None,\n",
       "              colsample_bylevel=None, colsample_bynode=None,\n",
       "              colsample_bytree=None, device=None, early_stopping_rounds=None,\n",
       "              enable_categorical=False, eval_metric=None, feature_types=None,\n",
       "              feature_weights=None, gamma=None, grow_policy=None,\n",
       "              importance_type=None, interaction_constraints=None,\n",
       "              learning_rate=None, max_bin=None, max_cat_threshold=None,\n",
       "              max_cat_to_onehot=None, max_delta_step=None, max_depth=None,\n",
       "              max_leaves=None, min_child_weight=None, missing=nan,\n",
       "              monotone_constraints=None, multi_strategy=None, n_estimators=100,\n",
       "              n_jobs=None, num_parallel_tree=None, ...)</pre></div></div></div></div></div>"
      ],
      "text/plain": [
       "XGBClassifier(base_score=None, booster=None, callbacks=None,\n",
       "              colsample_bylevel=None, colsample_bynode=None,\n",
       "              colsample_bytree=None, device=None, early_stopping_rounds=None,\n",
       "              enable_categorical=False, eval_metric=None, feature_types=None,\n",
       "              feature_weights=None, gamma=None, grow_policy=None,\n",
       "              importance_type=None, interaction_constraints=None,\n",
       "              learning_rate=None, max_bin=None, max_cat_threshold=None,\n",
       "              max_cat_to_onehot=None, max_delta_step=None, max_depth=None,\n",
       "              max_leaves=None, min_child_weight=None, missing=nan,\n",
       "              monotone_constraints=None, multi_strategy=None, n_estimators=100,\n",
       "              n_jobs=None, num_parallel_tree=None, ...)"
      ]
     },
     "execution_count": 8,
     "metadata": {},
     "output_type": "execute_result"
    }
   ],
   "source": [
    "# from sklearn.ensemble import RandomForestClassifier\n",
    "# clf = RandomForestClassifier(n_estimators=100, random_state=42)\n",
    "# clf.fit(X_train, y_train)\n",
    "\n",
    "\n",
    "from xgboost import XGBClassifier\n",
    "clf = XGBClassifier(n_estimators=100, random_state=42)\n",
    "clf.fit(X_train, y_train)\n",
    "\n",
    "# from sklearn.neural_network import MLPClassifier\n",
    "# clf = MLPClassifier(hidden_layer_sizes=(100,), max_iter=500)\n",
    "# clf.fit(X_train, y_train)\n",
    "\n",
    "\n"
   ]
  },
  {
   "cell_type": "code",
   "execution_count": 9,
   "id": "0747c1a4",
   "metadata": {},
   "outputs": [
    {
     "name": "stdout",
     "output_type": "stream",
     "text": [
      "Accuracy: 0.9868334822758416\n",
      "              precision    recall  f1-score   support\n",
      "\n",
      "jumping_jack       0.99      0.99      0.99      3780\n",
      "     pull_up       0.98      0.99      0.98      3835\n",
      "     push_up       0.99      0.99      0.99      3472\n",
      "       situp       0.99      0.99      0.99      3335\n",
      "       squat       0.98      0.97      0.98      2363\n",
      "\n",
      "    accuracy                           0.99     16785\n",
      "   macro avg       0.99      0.99      0.99     16785\n",
      "weighted avg       0.99      0.99      0.99     16785\n",
      "\n"
     ]
    }
   ],
   "source": [
    "from sklearn.metrics import accuracy_score, classification_report\n",
    "\n",
    "y_pred = clf.predict(X_test)\n",
    "print(\"Accuracy:\", accuracy_score(y_test, y_pred))\n",
    "print(classification_report(y_test, y_pred, target_names=label_encoder.classes_))"
   ]
  },
  {
   "cell_type": "code",
   "execution_count": 10,
   "id": "c3c3545c",
   "metadata": {},
   "outputs": [
    {
     "data": {
      "text/plain": [
       "['label_encoder.pkl']"
      ]
     },
     "execution_count": 10,
     "metadata": {},
     "output_type": "execute_result"
    }
   ],
   "source": [
    "import joblib\n",
    "\n",
    "joblib.dump(clf, 'pose_classifier.pkl')\n",
    "joblib.dump(label_encoder, 'label_encoder.pkl')"
   ]
  }
 ],
 "metadata": {
  "kernelspec": {
   "display_name": "base",
   "language": "python",
   "name": "python3"
  },
  "language_info": {
   "codemirror_mode": {
    "name": "ipython",
    "version": 3
   },
   "file_extension": ".py",
   "mimetype": "text/x-python",
   "name": "python",
   "nbconvert_exporter": "python",
   "pygments_lexer": "ipython3",
   "version": "3.11.5"
  }
 },
 "nbformat": 4,
 "nbformat_minor": 5
}
