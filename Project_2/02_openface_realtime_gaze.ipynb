{
 "cells": [
  {
   "cell_type": "markdown",
   "id": "d4cf94ee",
   "metadata": {},
   "source": [
    "# Notebook 2: OpenFace Real-Time Gaze Estimation\n",
    "This notebook captures RGB frames from the RealSense camera, feeds them to OpenFace, and visualizes the gaze vector in real time.\n",
    "Make sure OpenFace is correctly installed and its binary is accessible from the command line.\n",
    "Press 'q' to quit the live preview."
   ]
  },
  {
   "cell_type": "code",
   "execution_count": null,
   "id": "45754b02",
   "metadata": {},
   "outputs": [],
   "source": [
    "import pyrealsense2 as rs\n",
    "import numpy as np\n",
    "import cv2\n",
    "import os\n",
    "import subprocess\n",
    "import pandas as pd\n"
   ]
  },
  {
   "cell_type": "code",
   "execution_count": null,
   "id": "c3f88b0f",
   "metadata": {},
   "outputs": [],
   "source": [
    "pipeline = rs.pipeline()\n",
    "config = rs.config()\n",
    "config.enable_stream(rs.stream.color, 640, 480, rs.format.bgr8, 30)\n",
    "pipeline.start(config)\n"
   ]
  },
  {
   "cell_type": "code",
   "execution_count": null,
   "id": "369a5bac",
   "metadata": {},
   "outputs": [],
   "source": [
    "def run_openface_on_frame(image_path, output_dir=\"openface_output\"):\n",
    "    os.makedirs(output_dir, exist_ok=True)\n",
    "    command = [\n",
    "        \"./OpenFace/build/bin/FeatureExtraction\",  # path \n",
    "        \"-f\", image_path,\n",
    "        \"-out_dir\", output_dir,\n",
    "        \"-gaze\"\n",
    "    ]\n",
    "    subprocess.run(command, stdout=subprocess.PIPE, stderr=subprocess.PIPE)\n",
    "    gaze_data_path = os.path.join(output_dir, \"gaze.csv\")\n",
    "    if os.path.exists(gaze_data_path):\n",
    "        df = pd.read_csv(gaze_data_path)\n",
    "        if len(df) > 0:\n",
    "            return df.iloc[-1]\n",
    "    return None\n"
   ]
  },
  {
   "cell_type": "code",
   "execution_count": null,
   "id": "bfe78abb",
   "metadata": {},
   "outputs": [],
   "source": [
    "print(\"Press 'q' to quit.\")\n",
    "frame_count = 0\n",
    "\n",
    "try:\n",
    "    while True:\n",
    "        frames = pipeline.wait_for_frames()\n",
    "        color_frame = frames.get_color_frame()\n",
    "        if not color_frame:\n",
    "            continue\n",
    "\n",
    "        color_image = np.asanyarray(color_frame.get_data())\n",
    "        frame_path = f\"temp_frame_{frame_count}.png\"\n",
    "        cv2.imwrite(frame_path, color_image)\n",
    "\n",
    "        # Run OpenFace\n",
    "        gaze_data = run_openface_on_frame(frame_path)\n",
    "\n",
    "        # Visualize\n",
    "        if gaze_data is not None:\n",
    "            eye_x = gaze_data['eye_lmk_x_0']\n",
    "            eye_y = gaze_data['eye_lmk_y_0']\n",
    "            gaze_x = gaze_data['gaze_0_x']\n",
    "            gaze_y = gaze_data['gaze_0_y']\n",
    "\n",
    "            pt1 = (int(eye_x), int(eye_y))\n",
    "            pt2 = (int(eye_x + gaze_x * 100), int(eye_y + gaze_y * 100))\n",
    "            cv2.arrowedLine(color_image, pt1, pt2, (0, 255, 0), 2)\n",
    "\n",
    "        cv2.imshow(\"OpenFace Gaze Estimation\", color_image)\n",
    "        key = cv2.waitKey(1)\n",
    "        if key == ord('q'):\n",
    "            break\n",
    "\n",
    "        frame_count += 1\n",
    "\n",
    "finally:\n",
    "    pipeline.stop()\n",
    "    cv2.destroyAllWindows()\n"
   ]
  }
 ],
 "metadata": {
  "language_info": {
   "name": "python"
  }
 },
 "nbformat": 4,
 "nbformat_minor": 5
}
