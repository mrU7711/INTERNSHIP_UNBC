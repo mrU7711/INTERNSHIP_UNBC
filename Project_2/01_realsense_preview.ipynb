{
 "cells": [
  {
   "cell_type": "markdown",
   "id": "bf896b2d",
   "metadata": {},
   "source": [
    "# Notebook 1: RealSense RGB + Depth Preview\n",
    "This notebook captures live RGB and depth frames from the Intel RealSense D455 camera. It allows you to preview the streams and save snapshots by pressing 's'. Press 'q' to quit."
   ]
  },
  {
   "cell_type": "code",
   "execution_count": null,
   "id": "91fcc221",
   "metadata": {},
   "outputs": [],
   "source": [
    "import pyrealsense2 as rs\n",
    "import numpy as np\n",
    "import cv2\n",
    "import os\n"
   ]
  },
  {
   "cell_type": "code",
   "execution_count": null,
   "id": "b0fe5982",
   "metadata": {},
   "outputs": [],
   "source": [
    "# Initialize RealSense pipeline\n",
    "pipeline = rs.pipeline()\n",
    "config = rs.config()\n",
    "config.enable_stream(rs.stream.depth, 640, 480, rs.format.z16, 30)\n",
    "config.enable_stream(rs.stream.color, 640, 480, rs.format.bgr8, 30)\n",
    "\n",
    "# Start the camera\n",
    "pipeline.start(config)\n",
    "\n",
    "print(\"Press 's' to save a frame, 'q' to quit.\")\n"
   ]
  },
  {
   "cell_type": "code",
   "execution_count": null,
   "id": "cb37ece6",
   "metadata": {},
   "outputs": [],
   "source": [
    "try:\n",
    "    while True:\n",
    "        # Wait for a coherent pair of frames\n",
    "        frames = pipeline.wait_for_frames()\n",
    "        depth_frame = frames.get_depth_frame()\n",
    "        color_frame = frames.get_color_frame()\n",
    "\n",
    "        if not depth_frame or not color_frame:\n",
    "            continue\n",
    "\n",
    "        # Convert to numpy arrays\n",
    "        depth_image = np.asanyarray(depth_frame.get_data())\n",
    "        color_image = np.asanyarray(color_frame.get_data())\n",
    "\n",
    "        # Visualize depth\n",
    "        depth_colormap = cv2.applyColorMap(\n",
    "            cv2.convertScaleAbs(depth_image, alpha=0.03),\n",
    "            cv2.COLORMAP_JET\n",
    "        )\n",
    "\n",
    "        # Combine images\n",
    "        combined = np.hstack((color_image, depth_colormap))\n",
    "        cv2.imshow(\"RealSense RGB + Depth\", combined)\n",
    "\n",
    "        key = cv2.waitKey(1)\n",
    "        if key == ord('s'):\n",
    "            os.makedirs(\"snapshots\", exist_ok=True)\n",
    "            idx = len(os.listdir(\"snapshots\")) // 2\n",
    "            cv2.imwrite(f\"snapshots/rgb_{idx}.png\", color_image)\n",
    "            np.save(f\"snapshots/depth_{idx}.npy\", depth_image)\n",
    "            print(f\"Saved rgb_{idx}.png and depth_{idx}.npy\")\n",
    "        elif key == ord('q'):\n",
    "            break\n",
    "\n",
    "finally:\n",
    "    pipeline.stop()\n",
    "    cv2.destroyAllWindows()\n"
   ]
  }
 ],
 "metadata": {},
 "nbformat": 4,
 "nbformat_minor": 5
}
