{
 "cells": [
  {
   "cell_type": "markdown",
   "id": "1e43ef0b",
   "metadata": {},
   "source": [
    "# Notebook 4: Gaze-Based Target Classification\n",
    "This notebook uses a 3D gaze vector (from either OpenFace or MediaPipe) and classifies where the user is looking based on proximity to predefined 3D targets such as a screen or a robot.\n",
    "Make sure gaze vectors are defined in the RealSense camera coordinate space."
   ]
  },
  {
   "cell_type": "code",
   "execution_count": null,
   "id": "74bd3e60",
   "metadata": {},
   "outputs": [],
   "source": [
    "import numpy as np\n",
    "import cv2\n",
    "\n",
    "# Define 3D positions of screen and robot (in meters, in camera coordinate space)\n",
    "screen_center = np.array([0.2, 0.0, 0.7])  # Example position\n",
    "robot_center = np.array([-0.2, 0.0, 0.7])  # Example position\n",
    "target_radius = 0.15  # Acceptable distance in meters to count as \"looking at\"\n"
   ]
  },
  {
   "cell_type": "code",
   "execution_count": null,
   "id": "84049a79",
   "metadata": {},
   "outputs": [],
   "source": [
    "def classify_gaze_target(origin, direction, targets, threshold=target_radius):\n",
    "    results = {}\n",
    "    for name, center in targets.items():\n",
    "        to_target = center - origin\n",
    "        proj_len = np.dot(to_target, direction)\n",
    "        closest_point = origin + proj_len * direction\n",
    "        distance = np.linalg.norm(closest_point - center)\n",
    "        results[name] = distance\n",
    "    closest = min(results, key=results.get)\n",
    "    return closest if results[closest] < threshold else \"elsewhere\"\n"
   ]
  },
  {
   "cell_type": "code",
   "execution_count": null,
   "id": "52f5d243",
   "metadata": {},
   "outputs": [],
   "source": [
    "# Mock example gaze ray\n",
    "eye_origin = np.array([0.0, 0.0, 0.5])  # Camera-centered gaze origin\n",
    "gaze_vector = np.array([0.4, 0.0, 0.3])\n",
    "gaze_vector /= np.linalg.norm(gaze_vector)  # Normalize\n",
    "\n",
    "targets = {\n",
    "    \"screen\": screen_center,\n",
    "    \"robot\": robot_center\n",
    "}\n",
    "\n",
    "classification = classify_gaze_target(eye_origin, gaze_vector, targets)\n",
    "print(\"User is looking at:\", classification)\n"
   ]
  }
 ],
 "metadata": {},
 "nbformat": 4,
 "nbformat_minor": 5
}
